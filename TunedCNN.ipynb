{
 "cells": [
  {
   "cell_type": "code",
   "execution_count": 1,
   "metadata": {},
   "outputs": [],
   "source": [
    "import numpy as np\n",
    "import os\n",
    "from PIL import Image\n",
    "import matplotlib.pyplot as plt\n",
    "import tensorflow as tf\n",
    "import scipy"
   ]
  },
  {
   "cell_type": "markdown",
   "metadata": {},
   "source": [
    "# Convert heic files to jpg files"
   ]
  },
  {
   "cell_type": "code",
   "execution_count": 2,
   "metadata": {},
   "outputs": [],
   "source": [
    "# import glob\n",
    "# # Register the HEIF plugin\n",
    "# import pillow_heif\n",
    "# pillow_heif.register_heif_opener()\n",
    "\n",
    "# # Convert files with baby\n",
    "# file_names=glob.glob(r'C:\\Users\\gregoryd\\Documents\\Ben\\OpenCV\\LuciaIdentifier\\Pictures\\Train\\Baby\\*.heic')\n",
    "# for name in file_names:\n",
    "#     # Import image \n",
    "#     image=Image.open(name)\n",
    "#     # All heifs aren't always in RGB. Convert to RGB.\n",
    "#     image = image.convert(\"RGB\")\n",
    "#     image.save(f\"{name[:-5]}.jpg\", \"JPEG\")\n",
    "\n",
    "# # Convert files wihtout baby\n",
    "# file_names=glob.glob(r'C:\\Users\\gregoryd\\Documents\\Ben\\OpenCV\\LuciaIdentifier\\Pictures\\Train\\NoBaby\\*.heic')\n",
    "# for name in file_names:\n",
    "#     # Import image \n",
    "#     image=Image.open(name)\n",
    "#     # All heifs aren't always in RGB. Convert to RGB.\n",
    "#     image = image.convert(\"RGB\")\n",
    "#     image.save(f\"{name[:-5]}.jpg\", \"JPEG\")"
   ]
  },
  {
   "cell_type": "markdown",
   "metadata": {},
   "source": [
    "# PreProcessing"
   ]
  },
  {
   "cell_type": "code",
   "execution_count": 9,
   "metadata": {},
   "outputs": [
    {
     "name": "stdout",
     "output_type": "stream",
     "text": [
      "Found 618 files belonging to 2 classes.\n"
     ]
    }
   ],
   "source": [
    "# Directory to folders of images\n",
    "# This directory contrains two folders, one called \"Baby\" and one called \"NoBaby\"\n",
    "# We aren't doing seperate folders for train, test, and validation. We will split later.\n",
    "directory=r'C:\\Users\\gregoryd\\Documents\\Ben\\OpenCV\\LuciaIdentifier\\Pictures\\CNN_Dataset'\n",
    "\n",
    "# Create generator\n",
    "data=tf.keras.utils.image_dataset_from_directory(\n",
    "    directory,\n",
    "    labels='inferred',\n",
    "    label_mode='int',\n",
    "    class_names=['NoBaby','Baby'], # First folder is class 0, second folder is class 1\n",
    "    color_mode='rgb',\n",
    "    batch_size=64, # default 32, 64 for faster performance\n",
    "    image_size=(256, 256),\n",
    "    shuffle=True,\n",
    "    seed=1,\n",
    "    validation_split=None,\n",
    "    subset=None,\n",
    "    interpolation='bilinear',\n",
    "    follow_links=False,\n",
    "    crop_to_aspect_ratio=False,\n",
    ")"
   ]
  },
  {
   "cell_type": "code",
   "execution_count": 10,
   "metadata": {},
   "outputs": [],
   "source": [
    "# Scale data to between 0 and 1\n",
    "# map applies lambda function \"in pipeline\"\n",
    "# x is the first element of our batch, or the images. y is the labels\n",
    "data_scaled=data.map(lambda x,y: (x/255,y))"
   ]
  },
  {
   "cell_type": "code",
   "execution_count": 11,
   "metadata": {},
   "outputs": [
    {
     "name": "stdout",
     "output_type": "stream",
     "text": [
      "1.0\n",
      "0.0\n"
     ]
    }
   ],
   "source": [
    "# Check the scaled data\n",
    "print(data_scaled.as_numpy_iterator().next()[0].max())\n",
    "print(data_scaled.as_numpy_iterator().next()[0].min())"
   ]
  },
  {
   "cell_type": "markdown",
   "metadata": {},
   "source": [
    "# Split"
   ]
  },
  {
   "cell_type": "code",
   "execution_count": 12,
   "metadata": {},
   "outputs": [
    {
     "name": "stdout",
     "output_type": "stream",
     "text": [
      "10\n",
      "7\n",
      "2\n",
      "2\n",
      "11\n"
     ]
    }
   ],
   "source": [
    "# Manual \"guess and check\" process to divide batches into train, val, and test set\n",
    "# This code is just selecting how many batches in each set\n",
    "# Actual splitting happens in next cell\n",
    "\n",
    "print(len(data_scaled)) # number of batches of data we have\n",
    "\n",
    "train_size=int(len(data_scaled)*0.7) # 70% for train\n",
    "val_size=int(len(data_scaled)*0.2) # 20% for validation\n",
    "test_size=int(len(data_scaled)*0.1)+1 # 10% for test\n",
    "\n",
    "print(train_size)\n",
    "print(val_size)\n",
    "print(test_size)\n",
    "print(train_size+test_size+val_size)"
   ]
  },
  {
   "cell_type": "code",
   "execution_count": 13,
   "metadata": {},
   "outputs": [],
   "source": [
    "# Set aside batches for train, validation, and test\n",
    "# Data must be shuffled prior to doing this\n",
    "\n",
    "train=data_scaled.take(train_size)\n",
    "val=data_scaled.skip(train_size).take(val_size)\n",
    "test=data_scaled.skip(train_size+val_size).take(test_size)"
   ]
  },
  {
   "cell_type": "markdown",
   "metadata": {},
   "source": [
    "# Augment Training Set data"
   ]
  },
  {
   "cell_type": "code",
   "execution_count": 16,
   "metadata": {},
   "outputs": [],
   "source": [
    "# This will help prevent overfitting\n",
    "\n",
    "def augment_image(image, label):\n",
    "    image = tf.image.random_flip_left_right(image)  # Randomly flip the image horizontally\n",
    "    image = tf.image.random_brightness(image, max_delta=0.1)  # Randomly change the brightness\n",
    "    image = tf.image.random_contrast(image, lower=0.9, upper=1.1)  # Randomly change contrast\n",
    "    return image, label\n",
    "\n",
    "# Apply the augmentation in-pipeline\n",
    "train_augmented = train.map(augment_image, num_parallel_calls=tf.data.experimental.AUTOTUNE)"
   ]
  },
  {
   "cell_type": "markdown",
   "metadata": {},
   "source": [
    "# Model"
   ]
  },
  {
   "cell_type": "code",
   "execution_count": 17,
   "metadata": {},
   "outputs": [],
   "source": [
    "from tensorflow.keras.models import Sequential\n",
    "from tensorflow.keras.layers import Conv2D, MaxPooling2D, Dense, Flatten, Dropout"
   ]
  },
  {
   "cell_type": "markdown",
   "metadata": {},
   "source": [
    "### Model Architecture"
   ]
  },
  {
   "cell_type": "code",
   "execution_count": 18,
   "metadata": {},
   "outputs": [],
   "source": [
    "# This is a farily simple model. We will build sequentially.\n",
    "model = Sequential()"
   ]
  },
  {
   "cell_type": "code",
   "execution_count": 19,
   "metadata": {},
   "outputs": [],
   "source": [
    "# 32 filters in convulution, more than before for more predictive power\n",
    "# each filter is of size 3x3 pixels\n",
    "# stride of 1\n",
    "model.add(Conv2D(32,(3,3),1,activation='relu',input_shape=(256,256,3)))\n",
    "# Condenses information\n",
    "# Default is 2x2 region. So takes max value out of 2x2 region\n",
    "# Halves the data\n",
    "model.add(MaxPooling2D())\n",
    "\n",
    "model.add(Conv2D(64, (3,3), 1, activation='relu'))\n",
    "model.add(MaxPooling2D())\n",
    "\n",
    "model.add(Conv2D(64,(3,3),1,activation='relu'))\n",
    "model.add(MaxPooling2D())\n",
    "\n",
    "model.add(Flatten())\n",
    "\n",
    "model.add(Dense(256,activation='relu'))\n",
    "model.add(Dense(1,activation='sigmoid'))"
   ]
  },
  {
   "cell_type": "code",
   "execution_count": 21,
   "metadata": {},
   "outputs": [],
   "source": [
    "# Set the learning rate\n",
    "# Experimented with lower learning rates, ended up back at the default\n",
    "from tensorflow.keras.optimizers import Adam\n",
    "learning_rate = 0.001\n",
    "optimizer = Adam(learning_rate=learning_rate)\n",
    "\n",
    "model.compile(optimizer,loss=tf.losses.BinaryCrossentropy(),metrics=['accuracy'])"
   ]
  },
  {
   "cell_type": "code",
   "execution_count": 22,
   "metadata": {},
   "outputs": [
    {
     "name": "stdout",
     "output_type": "stream",
     "text": [
      "Model: \"sequential\"\n",
      "_________________________________________________________________\n",
      " Layer (type)                Output Shape              Param #   \n",
      "=================================================================\n",
      " conv2d (Conv2D)             (None, 254, 254, 32)      896       \n",
      "                                                                 \n",
      " max_pooling2d (MaxPooling2D  (None, 127, 127, 32)     0         \n",
      " )                                                               \n",
      "                                                                 \n",
      " conv2d_1 (Conv2D)           (None, 125, 125, 64)      18496     \n",
      "                                                                 \n",
      " max_pooling2d_1 (MaxPooling  (None, 62, 62, 64)       0         \n",
      " 2D)                                                             \n",
      "                                                                 \n",
      " conv2d_2 (Conv2D)           (None, 60, 60, 64)        36928     \n",
      "                                                                 \n",
      " max_pooling2d_2 (MaxPooling  (None, 30, 30, 64)       0         \n",
      " 2D)                                                             \n",
      "                                                                 \n",
      " flatten (Flatten)           (None, 57600)             0         \n",
      "                                                                 \n",
      " dense (Dense)               (None, 256)               14745856  \n",
      "                                                                 \n",
      " dense_1 (Dense)             (None, 1)                 257       \n",
      "                                                                 \n",
      "=================================================================\n",
      "Total params: 14,802,433\n",
      "Trainable params: 14,802,433\n",
      "Non-trainable params: 0\n",
      "_________________________________________________________________\n"
     ]
    }
   ],
   "source": [
    "model.summary()"
   ]
  },
  {
   "cell_type": "markdown",
   "metadata": {},
   "source": [
    "### Model Training"
   ]
  },
  {
   "cell_type": "code",
   "execution_count": 24,
   "metadata": {},
   "outputs": [
    {
     "name": "stdout",
     "output_type": "stream",
     "text": [
      "Epoch 1/30\n",
      "7/7 [==============================] - 89s 10s/step - loss: 1.9236 - accuracy: 0.5379 - val_loss: 0.6827 - val_accuracy: 0.5469\n",
      "Epoch 2/30\n",
      "7/7 [==============================] - 77s 9s/step - loss: 0.6698 - accuracy: 0.5759 - val_loss: 0.6925 - val_accuracy: 0.4766\n",
      "Epoch 3/30\n",
      "7/7 [==============================] - 74s 9s/step - loss: 0.6939 - accuracy: 0.6094 - val_loss: 0.5942 - val_accuracy: 0.7188\n",
      "Epoch 4/30\n",
      "7/7 [==============================] - 73s 9s/step - loss: 0.6094 - accuracy: 0.6808 - val_loss: 0.6009 - val_accuracy: 0.7266\n",
      "Epoch 5/30\n",
      "7/7 [==============================] - 77s 9s/step - loss: 0.5866 - accuracy: 0.7188 - val_loss: 0.5322 - val_accuracy: 0.7422\n",
      "Epoch 6/30\n",
      "7/7 [==============================] - 77s 10s/step - loss: 0.5544 - accuracy: 0.7143 - val_loss: 0.4681 - val_accuracy: 0.7891\n",
      "Epoch 7/30\n",
      "7/7 [==============================] - 75s 9s/step - loss: 0.5166 - accuracy: 0.7321 - val_loss: 0.4389 - val_accuracy: 0.8125\n",
      "Epoch 8/30\n",
      "7/7 [==============================] - 75s 9s/step - loss: 0.4580 - accuracy: 0.8237 - val_loss: 0.4130 - val_accuracy: 0.8438\n",
      "Epoch 9/30\n",
      "7/7 [==============================] - 74s 9s/step - loss: 0.4078 - accuracy: 0.8237 - val_loss: 0.3278 - val_accuracy: 0.8594\n",
      "Epoch 10/30\n",
      "7/7 [==============================] - 73s 9s/step - loss: 0.3842 - accuracy: 0.8103 - val_loss: 0.3642 - val_accuracy: 0.8672\n",
      "Epoch 11/30\n",
      "7/7 [==============================] - 71s 9s/step - loss: 0.3334 - accuracy: 0.8906 - val_loss: 0.3122 - val_accuracy: 0.8438\n",
      "Epoch 12/30\n",
      "7/7 [==============================] - 74s 9s/step - loss: 0.2258 - accuracy: 0.9129 - val_loss: 0.1802 - val_accuracy: 0.9375\n",
      "Epoch 13/30\n",
      "7/7 [==============================] - 73s 9s/step - loss: 0.1697 - accuracy: 0.9330 - val_loss: 0.1553 - val_accuracy: 0.9297\n",
      "Epoch 14/30\n",
      "7/7 [==============================] - 69s 8s/step - loss: 0.1403 - accuracy: 0.9554 - val_loss: 0.2748 - val_accuracy: 0.8672\n",
      "Epoch 15/30\n",
      "7/7 [==============================] - 72s 9s/step - loss: 0.1932 - accuracy: 0.9241 - val_loss: 0.1570 - val_accuracy: 0.9453\n",
      "Epoch 16/30\n",
      "7/7 [==============================] - 70s 8s/step - loss: 0.1439 - accuracy: 0.9509 - val_loss: 0.0596 - val_accuracy: 0.9922\n",
      "Epoch 17/30\n",
      "7/7 [==============================] - 74s 9s/step - loss: 0.0840 - accuracy: 0.9777 - val_loss: 0.0815 - val_accuracy: 0.9766\n",
      "Epoch 18/30\n",
      "7/7 [==============================] - 74s 9s/step - loss: 0.0603 - accuracy: 0.9844 - val_loss: 0.0270 - val_accuracy: 1.0000\n",
      "Epoch 19/30\n",
      "7/7 [==============================] - 70s 8s/step - loss: 0.0288 - accuracy: 0.9955 - val_loss: 0.0314 - val_accuracy: 0.9844\n",
      "Epoch 20/30\n",
      "7/7 [==============================] - 66s 8s/step - loss: 0.0349 - accuracy: 0.9888 - val_loss: 0.0173 - val_accuracy: 1.0000\n",
      "Epoch 21/30\n",
      "7/7 [==============================] - 63s 8s/step - loss: 0.0127 - accuracy: 1.0000 - val_loss: 0.0159 - val_accuracy: 0.9922\n",
      "Epoch 22/30\n",
      "7/7 [==============================] - 68s 8s/step - loss: 0.0093 - accuracy: 1.0000 - val_loss: 0.0089 - val_accuracy: 1.0000\n",
      "Epoch 23/30\n",
      "7/7 [==============================] - 65s 8s/step - loss: 0.0065 - accuracy: 1.0000 - val_loss: 0.0059 - val_accuracy: 1.0000\n",
      "Epoch 24/30\n",
      "7/7 [==============================] - 68s 8s/step - loss: 0.0039 - accuracy: 1.0000 - val_loss: 0.0024 - val_accuracy: 1.0000\n",
      "Epoch 25/30\n",
      "7/7 [==============================] - 68s 8s/step - loss: 0.0025 - accuracy: 1.0000 - val_loss: 0.0011 - val_accuracy: 1.0000\n",
      "Epoch 26/30\n",
      "7/7 [==============================] - 68s 8s/step - loss: 0.0016 - accuracy: 1.0000 - val_loss: 9.9393e-04 - val_accuracy: 1.0000\n",
      "Epoch 27/30\n",
      "7/7 [==============================] - 70s 9s/step - loss: 0.0013 - accuracy: 1.0000 - val_loss: 0.0012 - val_accuracy: 1.0000\n",
      "Epoch 28/30\n",
      "7/7 [==============================] - 78s 9s/step - loss: 0.0011 - accuracy: 1.0000 - val_loss: 8.3328e-04 - val_accuracy: 1.0000\n",
      "Epoch 29/30\n",
      "7/7 [==============================] - 80s 10s/step - loss: 9.8431e-04 - accuracy: 1.0000 - val_loss: 6.0774e-04 - val_accuracy: 1.0000\n",
      "Epoch 30/30\n",
      "7/7 [==============================] - 78s 9s/step - loss: 7.0558e-04 - accuracy: 1.0000 - val_loss: 6.8693e-04 - val_accuracy: 1.0000\n"
     ]
    }
   ],
   "source": [
    "hist = model.fit(train,epochs=30,validation_data=val)"
   ]
  },
  {
   "cell_type": "code",
   "execution_count": 26,
   "metadata": {},
   "outputs": [
    {
     "data": {
      "image/png": "[encoded data removed]",
      "text/plain": [
       "<Figure size 600x300 with 1 Axes>"
      ]
     },
     "metadata": {},
     "output_type": "display_data"
    },
    {
     "data": {
      "image/png": "[encoded data removed]",
      "text/plain": [
       "<Figure size 600x300 with 1 Axes>"
      ]
     },
     "metadata": {},
     "output_type": "display_data"
    }
   ],
   "source": [
    "# Plot loss function for train and validation set\n",
    "\n",
    "plt.figure(figsize=(6,3))\n",
    "plt.plot(hist.history['loss'],label='loss')\n",
    "plt.plot(hist.history['val_loss'],label='val_loss')\n",
    "plt.title('Loss')\n",
    "plt.legend()\n",
    "plt.show()\n",
    "\n",
    "# Plot accuracy of train and validation set\n",
    "\n",
    "plt.figure(figsize=(6,3))\n",
    "plt.plot(hist.history['accuracy'],label='loss')\n",
    "plt.plot(hist.history['val_accuracy'],label='val_loss')\n",
    "plt.title('Accuracy')\n",
    "plt.legend()\n",
    "plt.show()"
   ]
  },
  {
   "cell_type": "markdown",
   "metadata": {},
   "source": [
    "### Model Evaluation"
   ]
  },
  {
   "cell_type": "markdown",
   "metadata": {},
   "source": [
    "##### Threshold optimization on validation set"
   ]
  },
  {
   "cell_type": "code",
   "execution_count": 28,
   "metadata": {},
   "outputs": [
    {
     "name": "stdout",
     "output_type": "stream",
     "text": [
      "2/2 [==============================] - 3s 1s/step\n",
      "2/2 [==============================] - 2s 827ms/step\n"
     ]
    },
    {
     "data": {
      "image/png": "[encoded data removed]",
      "text/plain": [
       "<Figure size 1200x800 with 1 Axes>"
      ]
     },
     "metadata": {},
     "output_type": "display_data"
    },
    {
     "name": "stdout",
     "output_type": "stream",
     "text": [
      "Optimal Threshold: 0.30\n",
      "Optimal F1 Score: 1.0000\n"
     ]
    }
   ],
   "source": [
    "from sklearn.metrics import confusion_matrix, accuracy_score, precision_score, recall_score, f1_score\n",
    "\n",
    "# Initialize lists to store true labels and predicted probabilities\n",
    "y_true = []\n",
    "y_prob = []\n",
    "\n",
    "# Iterate over the validation dataset batches\n",
    "for batch in val.as_numpy_iterator():\n",
    "    X, y = batch\n",
    "    \n",
    "    # Make predictions (probabilities for binary classification)\n",
    "    predictions = model.predict(X)\n",
    "    \n",
    "    # Append true labels and predicted probabilities to the lists\n",
    "    y_true.extend(y)\n",
    "    y_prob.extend(predictions.flatten())\n",
    "\n",
    "# Convert lists to numpy arrays\n",
    "y_true = np.array(y_true)\n",
    "y_prob = np.array(y_prob)\n",
    "\n",
    "# Define a range of thresholds to evaluate\n",
    "thresholds = np.arange(0.3, 0.65, 0.05)\n",
    "\n",
    "# Initialize lists to store metrics\n",
    "accuracies = []\n",
    "precisions = []\n",
    "recalls = []\n",
    "f1_scores = []\n",
    "\n",
    "# Evaluate each threshold\n",
    "for threshold in thresholds:\n",
    "    # Convert probabilities to binary class labels based on the current threshold\n",
    "    y_pred = (y_prob >= threshold).astype(int)\n",
    "    \n",
    "    # Calculate metrics\n",
    "    accuracy = accuracy_score(y_true, y_pred)\n",
    "    precision = precision_score(y_true, y_pred)\n",
    "    recall = recall_score(y_true, y_pred)\n",
    "    f1 = f1_score(y_true, y_pred)\n",
    "    \n",
    "    # Store metrics\n",
    "    accuracies.append(accuracy)\n",
    "    precisions.append(precision)\n",
    "    recalls.append(recall)\n",
    "    f1_scores.append(f1)\n",
    "\n",
    "# Plot the metrics against the thresholds\n",
    "plt.figure(figsize=(12, 8))\n",
    "plt.plot(thresholds, accuracies, label='Accuracy')\n",
    "plt.plot(thresholds, precisions, label='Precision')\n",
    "plt.plot(thresholds, recalls, label='Recall')\n",
    "plt.plot(thresholds, f1_scores, label='F1 Score')\n",
    "plt.xlabel('Threshold')\n",
    "plt.ylabel('Metric Value')\n",
    "plt.title('Performance Metrics at Different Thresholds')\n",
    "plt.legend()\n",
    "plt.grid(True)\n",
    "plt.show()\n",
    "\n",
    "# Identify the optimal threshold (example: max F1 score)\n",
    "optimal_threshold_index = np.argmax(f1_scores)\n",
    "optimal_threshold = thresholds[optimal_threshold_index]\n",
    "print(f\"Optimal Threshold: {optimal_threshold:.2f}\")\n",
    "print(f\"Optimal F1 Score: {f1_scores[optimal_threshold_index]:.4f}\")\n"
   ]
  },
  {
   "cell_type": "code",
   "execution_count": 29,
   "metadata": {},
   "outputs": [],
   "source": [
    "# All the thresholds were the same, so setting to 0.5\n",
    "optimal_threshold=0.5"
   ]
  },
  {
   "cell_type": "markdown",
   "metadata": {},
   "source": [
    "##### Test set evaluation with optimized threshold"
   ]
  },
  {
   "cell_type": "code",
   "execution_count": 31,
   "metadata": {},
   "outputs": [
    {
     "name": "stdout",
     "output_type": "stream",
     "text": [
      "2/2 [==============================] - 1s 250ms/step\n",
      "Calculated Accuracy: 1.0000\n"
     ]
    },
    {
     "data": {
      "image/png": "[encoded data removed]",
      "text/plain": [
       "<Figure size 500x300 with 2 Axes>"
      ]
     },
     "metadata": {},
     "output_type": "display_data"
    }
   ],
   "source": [
    "import seaborn as sns\n",
    "\n",
    "# Initialize lists to store true and predicted labels\n",
    "y_true = []\n",
    "y_pred = []\n",
    "\n",
    "# Iterate over the test dataset batches\n",
    "for batch in test.as_numpy_iterator():\n",
    "    X, y = batch\n",
    "    \n",
    "    # Make predictions (probabilities for binary classification)\n",
    "    predictions = model.predict(X)\n",
    "    \n",
    "    # Convert probabilities to class labels (0 or 1) based on a threshold\n",
    "    predicted_labels = (predictions > optimal_threshold).astype(int)\n",
    "    \n",
    "    # Append true and predicted labels to the lists\n",
    "    y_true.extend(y)\n",
    "    y_pred.extend(predicted_labels.flatten())\n",
    "\n",
    "# Convert lists to numpy arrays\n",
    "y_true = np.array(y_true)\n",
    "y_pred = np.array(y_pred)\n",
    "\n",
    "# Calculate accuracy using sklearn's accuracy_score\n",
    "accuracy = accuracy_score(y_true, y_pred)\n",
    "print(f\"Calculated Accuracy: {accuracy:.4f}\")\n",
    "\n",
    "# Compute the confusion matrix\n",
    "conf_matrix = confusion_matrix(y_true, y_pred)\n",
    "\n",
    "# Display the confusion matrix using seaborn's heatmap\n",
    "plt.figure(figsize=(5,3))\n",
    "sns.heatmap(conf_matrix, annot=True, fmt='d', cmap='Blues')\n",
    "plt.xlabel('Predicted')\n",
    "plt.ylabel('True')\n",
    "plt.title('Confusion Matrix')\n",
    "plt.show()\n"
   ]
  },
  {
   "cell_type": "markdown",
   "metadata": {},
   "source": [
    "# Save Model"
   ]
  },
  {
   "cell_type": "code",
   "execution_count": 33,
   "metadata": {},
   "outputs": [],
   "source": [
    "os.chdir(r'C:\\Users\\gregoryd\\Documents\\Ben\\OpenCV\\LuciaIdentifier\\Models')\n",
    "model.save('20240817_BabyIdentifier.keras')"
   ]
  },
  {
   "cell_type": "code",
   "execution_count": null,
   "metadata": {},
   "outputs": [],
   "source": []
  }
 ],
 "metadata": {
  "kernelspec": {
   "display_name": "base",
   "language": "python",
   "name": "python3"
  },
  "language_info": {
   "codemirror_mode": {
    "name": "ipython",
    "version": 3
   },
   "file_extension": ".py",
   "mimetype": "text/x-python",
   "name": "python",
   "nbconvert_exporter": "python",
   "pygments_lexer": "ipython3",
   "version": "3.8.19"
  }
 },
 "nbformat": 4,
 "nbformat_minor": 2
}
